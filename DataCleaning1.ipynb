{
 "cells": [
  {
   "cell_type": "markdown",
   "id": "edbc5b35",
   "metadata": {},
   "source": [
    "# - Data cleaning"
   ]
  },
  {
   "cell_type": "markdown",
   "id": "09e6826a",
   "metadata": {},
   "source": [
    "# Standard Deviation"
   ]
  },
  {
   "cell_type": "code",
   "execution_count": 14,
   "id": "bbbc9a7f",
   "metadata": {},
   "outputs": [
    {
     "name": "stdout",
     "output_type": "stream",
     "text": [
      "the mean : 38.77777777777778\n",
      "the std : 7.693792591722528\n",
      "the toprange : 53.857611257553934\n",
      "the botrange : 23.697944298001623\n"
     ]
    },
    {
     "data": {
      "text/plain": [
       "9"
      ]
     },
     "execution_count": 14,
     "metadata": {},
     "output_type": "execute_result"
    }
   ],
   "source": [
    "import pandas as pd \n",
    "\n",
    "location= \"Data 1.csv\"\n",
    "df = pd.read_csv(location)\n",
    "\n",
    "meanage=df['Age'].mean()\n",
    "print('the mean :' , meanage)\n",
    "stdage = df['Age'].std()\n",
    "print('the std :' , stdage)\n",
    "toprange = meanage + stdage * 1.96\n",
    "print('the toprange :' , toprange)\n",
    "botrange = meanage - stdage * 1.96\n",
    "print('the botrange :' , botrange)\n",
    "\n",
    "copydf=df\n",
    "copydf = copydf.drop(copydf[copydf['Age'] > toprange].index)\n",
    "copydf = copydf.drop(copydf[copydf['Age'] < botrange].index)\n",
    "copydf\n",
    "copydf['Age'].count()"
   ]
  },
  {
   "cell_type": "markdown",
   "id": "1da79545",
   "metadata": {},
   "source": [
    "# Method 2 - Interquartile Range"
   ]
  },
  {
   "cell_type": "code",
   "execution_count": 21,
   "id": "72d3b77e",
   "metadata": {},
   "outputs": [
    {
     "name": "stdout",
     "output_type": "stream",
     "text": [
      "q1 =  35.0\n",
      "q3 =  44.0\n",
      "iqr =  9.0\n",
      "the toprange : 57.5\n",
      "the botrange : 21.5\n"
     ]
    },
    {
     "data": {
      "text/plain": [
       "9"
      ]
     },
     "execution_count": 21,
     "metadata": {},
     "output_type": "execute_result"
    }
   ],
   "source": [
    "import pandas as pd\n",
    "df = pd.read_csv(location)\n",
    "\n",
    "q1 = df['Age'].quantile(.25)\n",
    "q3 = df['Age'].quantile(.75)\n",
    "iqr = q3-q1\n",
    "print(\"q1 = \", q1)\n",
    "print(\"q3 = \", q3)\n",
    "print(\"iqr = \", iqr)\n",
    "toprange = q3 + iqr * 1.5\n",
    "botrange = q1 - iqr * 1.5\n",
    "print('the toprange :' , toprange)\n",
    "print('the botrange :' , botrange)\n",
    "\n",
    "copydf=df\n",
    "copydf = copydf.drop(copydf[copydf['Age'] > toprange].index)\n",
    "copydf = copydf.drop(copydf[copydf['Age'] < botrange].index)\n",
    "copydf\n",
    "copydf['Age'].count()"
   ]
  }
 ],
 "metadata": {
  "kernelspec": {
   "display_name": "Python 3 (ipykernel)",
   "language": "python",
   "name": "python3"
  },
  "language_info": {
   "codemirror_mode": {
    "name": "ipython",
    "version": 3
   },
   "file_extension": ".py",
   "mimetype": "text/x-python",
   "name": "python",
   "nbconvert_exporter": "python",
   "pygments_lexer": "ipython3",
   "version": "3.11.5"
  },
  "vscode": {
   "interpreter": {
    "hash": "2d3f5f8cf3c8f66ff457d27cd7cb82ccd8b35cb125875a14cf550425f4d9524b"
   }
  }
 },
 "nbformat": 4,
 "nbformat_minor": 5
}
